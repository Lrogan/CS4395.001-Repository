{
 "cells": [
  {
   "cell_type": "markdown",
   "metadata": {},
   "source": [
    "The dataset I used can be found [HERE](https://www.kaggle.com/datasets/ozlerhakan/spam-or-not-spam-dataset)"
   ]
  },
  {
   "cell_type": "code",
   "execution_count": 4,
   "metadata": {},
   "outputs": [
    {
     "name": "stdout",
     "output_type": "stream",
     "text": [
      "train data size:  (2379, 2)\n",
      "test data size:  (621, 2)\n"
     ]
    },
    {
     "name": "stderr",
     "output_type": "stream",
     "text": [
      "C:\\Users\\antho\\AppData\\Local\\Temp\\ipykernel_6740\\4206280936.py:21: SettingWithCopyWarning: \n",
      "A value is trying to be set on a copy of a slice from a DataFrame.\n",
      "Try using .loc[row_indexer,col_indexer] = value instead\n",
      "\n",
      "See the caveats in the documentation: https://pandas.pydata.org/pandas-docs/stable/user_guide/indexing.html#returning-a-view-versus-a-copy\n",
      "  test.email = test.email.astype(str)\n"
     ]
    },
    {
     "data": {
      "text/plain": [
       "array([[<AxesSubplot: title={'center': 'label'}>]], dtype=object)"
      ]
     },
     "execution_count": 4,
     "metadata": {},
     "output_type": "execute_result"
    },
    {
     "data": {
      "image/png": "[encoded data removed]",
      "text/plain": [
       "<Figure size 640x480 with 1 Axes>"
      ]
     },
     "metadata": {},
     "output_type": "display_data"
    }
   ],
   "source": [
    "import tensorflow as tf\n",
    "from tensorflow.keras.preprocessing.text import Tokenizer\n",
    "from tensorflow.keras import layers, models\n",
    "from sklearn.preprocessing import LabelEncoder\n",
    "import pickle\n",
    "import numpy as np\n",
    "import pandas as pd\n",
    "import matplotlib.pyplot as plt\n",
    "\n",
    "np.random.seed(1234)\n",
    "\n",
    "#input and clean up data\n",
    "df = pd.read_csv('data.csv')\n",
    "\n",
    "#creating train-test split\n",
    "i = np.random.rand(len(df)) < 0.8\n",
    "train = df[i]\n",
    "test = df[~i]\n",
    "\n",
    "#for some reason test.emails is being treated as floats so now its strings\n",
    "test.email = test.email.astype(str)\n",
    "\n",
    "print(\"train data size: \", train.shape)\n",
    "print(\"test data size: \", test.shape)\n",
    "\n",
    "#creating graph\n",
    "pd.DataFrame(df[\"label\"]).hist()\n"
   ]
  },
  {
   "cell_type": "markdown",
   "metadata": {},
   "source": [
    "Description\n",
    "The dataset delinates spam and non spam in email text<br/>\n",
    "The model should be able to predict whether an email is spam or not<br/>\n",
    "if an Email is spam then output 1 otherwise 0"
   ]
  },
  {
   "cell_type": "code",
   "execution_count": 5,
   "metadata": {},
   "outputs": [],
   "source": [
    "# set up X and Y\n",
    "num_labels = 2\n",
    "vocab_size = 25000\n",
    "batch_size = 100\n",
    "\n",
    "# fit the tokenizer on the training data\n",
    "tokenizer = Tokenizer(num_words=vocab_size)\n",
    "tokenizer.fit_on_texts(train.email)\n",
    "\n",
    "x_train = tokenizer.texts_to_matrix(train.email, mode='tfidf')\n",
    "x_test = tokenizer.texts_to_matrix(test.email, mode='tfidf')\n",
    "\n",
    "encoder = LabelEncoder()\n",
    "encoder.fit(train.label)\n",
    "y_train = encoder.transform(train.label)\n",
    "y_test = encoder.transform(test.label)"
   ]
  },
  {
   "cell_type": "code",
   "execution_count": 6,
   "metadata": {},
   "outputs": [
    {
     "name": "stdout",
     "output_type": "stream",
     "text": [
      "Epoch 1/30\n",
      "22/22 [==============================] - 1s 16ms/step - loss: 0.3831 - accuracy: 0.9019 - val_loss: 3.4155 - val_accuracy: 0.0336\n",
      "Epoch 2/30\n",
      "22/22 [==============================] - 0s 8ms/step - loss: 0.1598 - accuracy: 0.9575 - val_loss: 2.8691 - val_accuracy: 0.2185\n",
      "Epoch 3/30\n",
      "22/22 [==============================] - 0s 9ms/step - loss: 0.0848 - accuracy: 0.9869 - val_loss: 3.1195 - val_accuracy: 0.3739\n",
      "Epoch 4/30\n",
      "22/22 [==============================] - 0s 8ms/step - loss: 0.0474 - accuracy: 0.9967 - val_loss: 3.3445 - val_accuracy: 0.4286\n",
      "Epoch 5/30\n",
      "22/22 [==============================] - 0s 8ms/step - loss: 0.0277 - accuracy: 0.9991 - val_loss: 3.4705 - val_accuracy: 0.4874\n",
      "Epoch 6/30\n",
      "22/22 [==============================] - 0s 8ms/step - loss: 0.0175 - accuracy: 0.9995 - val_loss: 3.6668 - val_accuracy: 0.5420\n",
      "Epoch 7/30\n",
      "22/22 [==============================] - 0s 8ms/step - loss: 0.0120 - accuracy: 0.9995 - val_loss: 3.8902 - val_accuracy: 0.5756\n",
      "Epoch 8/30\n",
      "22/22 [==============================] - 0s 10ms/step - loss: 0.0090 - accuracy: 0.9995 - val_loss: 4.0718 - val_accuracy: 0.5798\n",
      "Epoch 9/30\n",
      "22/22 [==============================] - 0s 11ms/step - loss: 0.0071 - accuracy: 0.9995 - val_loss: 4.2361 - val_accuracy: 0.5924\n",
      "Epoch 10/30\n",
      "22/22 [==============================] - 0s 9ms/step - loss: 0.0058 - accuracy: 0.9995 - val_loss: 4.3929 - val_accuracy: 0.5924\n",
      "Epoch 11/30\n",
      "22/22 [==============================] - 0s 9ms/step - loss: 0.0049 - accuracy: 0.9995 - val_loss: 4.5250 - val_accuracy: 0.5924\n",
      "Epoch 12/30\n",
      "22/22 [==============================] - 0s 8ms/step - loss: 0.0042 - accuracy: 0.9995 - val_loss: 4.6421 - val_accuracy: 0.5924\n",
      "Epoch 13/30\n",
      "22/22 [==============================] - 0s 10ms/step - loss: 0.0037 - accuracy: 0.9995 - val_loss: 4.7404 - val_accuracy: 0.5924\n",
      "Epoch 14/30\n",
      "22/22 [==============================] - 0s 9ms/step - loss: 0.0032 - accuracy: 0.9995 - val_loss: 4.8411 - val_accuracy: 0.5966\n",
      "Epoch 15/30\n",
      "22/22 [==============================] - 0s 8ms/step - loss: 0.0029 - accuracy: 0.9995 - val_loss: 4.9374 - val_accuracy: 0.6008\n",
      "Epoch 16/30\n",
      "22/22 [==============================] - 0s 8ms/step - loss: 0.0026 - accuracy: 0.9995 - val_loss: 5.0210 - val_accuracy: 0.6008\n",
      "Epoch 17/30\n",
      "22/22 [==============================] - 0s 8ms/step - loss: 0.0024 - accuracy: 0.9995 - val_loss: 5.0874 - val_accuracy: 0.6050\n",
      "Epoch 18/30\n",
      "22/22 [==============================] - 0s 8ms/step - loss: 0.0022 - accuracy: 0.9995 - val_loss: 5.1620 - val_accuracy: 0.6050\n",
      "Epoch 19/30\n",
      "22/22 [==============================] - 0s 8ms/step - loss: 0.0020 - accuracy: 0.9995 - val_loss: 5.2329 - val_accuracy: 0.6050\n",
      "Epoch 20/30\n",
      "22/22 [==============================] - 0s 8ms/step - loss: 0.0019 - accuracy: 0.9995 - val_loss: 5.2925 - val_accuracy: 0.6050\n",
      "Epoch 21/30\n",
      "22/22 [==============================] - 0s 9ms/step - loss: 0.0018 - accuracy: 0.9995 - val_loss: 5.3549 - val_accuracy: 0.6050\n",
      "Epoch 22/30\n",
      "22/22 [==============================] - 0s 8ms/step - loss: 0.0017 - accuracy: 0.9995 - val_loss: 5.4083 - val_accuracy: 0.6050\n",
      "Epoch 23/30\n",
      "22/22 [==============================] - 0s 8ms/step - loss: 0.0016 - accuracy: 0.9995 - val_loss: 5.4734 - val_accuracy: 0.6050\n",
      "Epoch 24/30\n",
      "22/22 [==============================] - 0s 8ms/step - loss: 0.0015 - accuracy: 0.9995 - val_loss: 5.5152 - val_accuracy: 0.6050\n",
      "Epoch 25/30\n",
      "22/22 [==============================] - 0s 8ms/step - loss: 0.0014 - accuracy: 0.9995 - val_loss: 5.5546 - val_accuracy: 0.6092\n",
      "Epoch 26/30\n",
      "22/22 [==============================] - 0s 8ms/step - loss: 0.0013 - accuracy: 0.9995 - val_loss: 5.6060 - val_accuracy: 0.6176\n",
      "Epoch 27/30\n",
      "22/22 [==============================] - 0s 9ms/step - loss: 0.0013 - accuracy: 0.9995 - val_loss: 5.6457 - val_accuracy: 0.6176\n",
      "Epoch 28/30\n",
      "22/22 [==============================] - 0s 9ms/step - loss: 0.0012 - accuracy: 0.9995 - val_loss: 5.6901 - val_accuracy: 0.6176\n",
      "Epoch 29/30\n",
      "22/22 [==============================] - 0s 9ms/step - loss: 0.0012 - accuracy: 0.9995 - val_loss: 5.7332 - val_accuracy: 0.6218\n",
      "Epoch 30/30\n",
      "22/22 [==============================] - 0s 9ms/step - loss: 0.0011 - accuracy: 0.9995 - val_loss: 5.7733 - val_accuracy: 0.6218\n"
     ]
    }
   ],
   "source": [
    "#simple Sequential\n",
    "model = models.Sequential()\n",
    "model.add(layers.Dense(32, input_dim=vocab_size, kernel_initializer='normal', activation='relu'))\n",
    "model.add(layers.Dense(1, kernel_initializer='normal', activation='sigmoid'))\n",
    " \n",
    "model.compile(loss='binary_crossentropy',\n",
    "              optimizer='adam',\n",
    "              metrics=['accuracy'])\n",
    " \n",
    "history = model.fit(x_train, y_train,\n",
    "                    batch_size=batch_size,\n",
    "                    epochs=30,\n",
    "                    verbose=1,\n",
    "                    validation_split=0.1)"
   ]
  },
  {
   "cell_type": "code",
   "execution_count": 7,
   "metadata": {},
   "outputs": [
    {
     "name": "stdout",
     "output_type": "stream",
     "text": [
      "7/7 [==============================] - 0s 3ms/step - loss: 0.4542 - accuracy: 0.9517\n",
      "Accuracy:  0.9516907930374146\n",
      "[0.45421674847602844, 0.9516907930374146]\n"
     ]
    }
   ],
   "source": [
    "score = model.evaluate(x_test, y_test, batch_size=batch_size, verbose=1)\n",
    "print('Accuracy: ', score[1])\n",
    "print(score)"
   ]
  },
  {
   "cell_type": "code",
   "execution_count": 8,
   "metadata": {},
   "outputs": [
    {
     "name": "stdout",
     "output_type": "stream",
     "text": [
      "Epoch 1/10\n",
      "15/15 [==============================] - 632s 42s/step - loss: 0.2912 - accuracy: 0.9327 - val_loss: 2.1462 - val_accuracy: 0.1744\n",
      "Epoch 2/10\n",
      " 3/15 [=====>........................] - ETA: 8:24 - loss: 0.0730 - accuracy: 1.0000"
     ]
    }
   ],
   "source": [
    "#attempting RNN\n",
    "max_features = 10000\n",
    "maxlen = 500\n",
    "batch_size = 32\n",
    "\n",
    "model = models.Sequential()\n",
    "model.add(layers.Embedding(max_features, 32))\n",
    "model.add(layers.SimpleRNN(32))\n",
    "model.add(layers.Dense(1, activation='sigmoid'))\n",
    "\n",
    "model.compile(optimizer='rmsprop',\n",
    "              loss='binary_crossentropy',\n",
    "              metrics=['accuracy'])\n",
    " \n",
    "history = model.fit(x_train, y_train,\n",
    "                    epochs=10,\n",
    "                    batch_size=128,\n",
    "                    validation_split=0.2)"
   ]
  },
  {
   "cell_type": "code",
   "execution_count": null,
   "metadata": {},
   "outputs": [],
   "source": [
    "print(model.summary())\n",
    "score = model.evaluate(x_test, y_test, batch_size=batch_size, verbose=1)\n",
    "print('Accuracy: ', score[1])\n",
    "print(score)"
   ]
  },
  {
   "cell_type": "code",
   "execution_count": null,
   "metadata": {},
   "outputs": [],
   "source": [
    "model.compile(optimizer='rmsprop',\n",
    "              loss='binary_crossentropy',\n",
    "              metrics=['accuracy'])\n",
    "\n",
    "history = model.fit(x_train, y_train,\n",
    "                    epochs=10,\n",
    "                    batch_size=128,\n",
    "                    validation_split=0.2)"
   ]
  },
  {
   "cell_type": "code",
   "execution_count": null,
   "metadata": {},
   "outputs": [],
   "source": [
    "print(model.summary())\n",
    "score = model.evaluate(x_test, y_test, batch_size=batch_size, verbose=1)\n",
    "print('Accuracy: ', score[1])\n",
    "print(score)"
   ]
  },
  {
   "cell_type": "markdown",
   "metadata": {},
   "source": [
    "Analysis:<br/>\n",
    "Overall the RNN took wayyy too long to run for even for the accuracy improvments, with my relatively small dataset the sequential seemed to have very good accuracy relative to the amount of time that it took to run. Embeddings seem to increase the accuracy a bit, however, again the sequential run got most of the way there for a fraction of the runtime."
   ]
  }
 ],
 "metadata": {
  "kernelspec": {
   "display_name": "Python 3.10.8 64-bit (microsoft store)",
   "language": "python",
   "name": "python3"
  },
  "language_info": {
   "codemirror_mode": {
    "name": "ipython",
    "version": 3
   },
   "file_extension": ".py",
   "mimetype": "text/x-python",
   "name": "python",
   "nbconvert_exporter": "python",
   "pygments_lexer": "ipython3",
   "version": "3.10.8"
  },
  "orig_nbformat": 4,
  "vscode": {
   "interpreter": {
    "hash": "90b2864b0195a5508ac774f00def394741627176797bec63e4b6717effc2fb31"
   }
  }
 },
 "nbformat": 4,
 "nbformat_minor": 2
}
