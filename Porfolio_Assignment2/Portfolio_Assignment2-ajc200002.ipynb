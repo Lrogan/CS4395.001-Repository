{
 "cells": [
  {
   "cell_type": "markdown",
   "metadata": {},
   "source": [
    "Grabs all the default texts in nltk.book"
   ]
  },
  {
   "cell_type": "code",
   "execution_count": 1,
   "metadata": {},
   "outputs": [
    {
     "name": "stdout",
     "output_type": "stream",
     "text": [
      "*** Introductory Examples for the NLTK Book ***\n",
      "Loading text1, ..., text9 and sent1, ..., sent9\n",
      "Type the name of the text or sentence to view it.\n",
      "Type: 'texts()' or 'sents()' to list the materials.\n",
      "text1: Moby Dick by Herman Melville 1851\n",
      "text2: Sense and Sensibility by Jane Austen 1811\n",
      "text3: The Book of Genesis\n",
      "text4: Inaugural Address Corpus\n",
      "text5: Chat Corpus\n",
      "text6: Monty Python and the Holy Grail\n",
      "text7: Wall Street Journal\n",
      "text8: Personals Corpus\n",
      "text9: The Man Who Was Thursday by G . K . Chesterton 1908\n"
     ]
    }
   ],
   "source": [
    "from nltk.book import *"
   ]
  },
  {
   "cell_type": "markdown",
   "metadata": {},
   "source": [
    "# Code Comments\n",
    "Stores text1 as tokens in the var text1Tokens then diplays the first 20 tokens in the list\n",
    "\n",
    "# Qustion Answers\n",
    "The tokens method will return the tokens of a list.\n",
    "<br>The tokens method is highly aggressive in what it considers a token."
   ]
  },
  {
   "cell_type": "code",
   "execution_count": null,
   "metadata": {},
   "outputs": [],
   "source": [
    "text1Tokens = text1.tokens\n",
    "text1Tokens[:20]"
   ]
  },
  {
   "cell_type": "markdown",
   "metadata": {},
   "source": [
    "# Code Comments\n",
    "goes through text1 and displays the first 5 phrases that contain the word \"sea\" and ~40 characters around that word."
   ]
  },
  {
   "cell_type": "code",
   "execution_count": 9,
   "metadata": {},
   "outputs": [
    {
     "name": "stdout",
     "output_type": "stream",
     "text": [
      "Displaying 5 of 455 matches:\n",
      " shall slay the dragon that is in the sea .\" -- ISAIAH \" And what thing soever \n",
      " S PLUTARCH ' S MORALS . \" The Indian Sea breedeth the most and the biggest fis\n",
      "cely had we proceeded two days on the sea , when about sunrise a great many Wha\n",
      "many Whales and other monsters of the sea , appeared . Among the former , one w\n",
      " waves on all sides , and beating the sea before him into a foam .\" -- TOOKE ' \n"
     ]
    }
   ],
   "source": [
    "text1.concordance(\"sea\",80,5)"
   ]
  },
  {
   "cell_type": "markdown",
   "metadata": {},
   "source": [
    "# Code Commnets\n",
    "create a list of a, b, and c\n",
    "<br>create a list of tokens from text1\n",
    "\n",
    "print all occurences of 'sea' in text1Tokens \n",
    "<br>print the number of words in text1Tokens\n",
    "\n",
    "print all occurence of 'a' in list\n",
    "<br>print the number of items in list\n",
    "\n",
    "# Question Answers\n",
    "the python count method merely counts all the items in a list, while the nltk count method requires something to count and only returns the amount of what was counted"
   ]
  },
  {
   "cell_type": "code",
   "execution_count": 10,
   "metadata": {},
   "outputs": [
    {
     "name": "stdout",
     "output_type": "stream",
     "text": [
      "433\n",
      "260819\n",
      "1\n",
      "3\n"
     ]
    }
   ],
   "source": [
    "list = ['a', 'b', 'c']\n",
    "text1Tokens = text1.tokens\n",
    "\n",
    "print(text1Tokens.count('sea'))\n",
    "print(len(text1Tokens))\n",
    "\n",
    "print(list.count('a'))\n",
    "print(len(list))"
   ]
  },
  {
   "cell_type": "markdown",
   "metadata": {},
   "source": [
    "# Code Comments\n",
    "Raw_text taken from [here](https://clagnut.com/blog/2380#Longer_pangrams_in_English_.28in_order_of_fewest_letters_used.29) \n",
    "<br>then convert that raw_text to word tokens\n",
    "<br>then print the first 10 tokens in that list"
   ]
  },
  {
   "cell_type": "code",
   "execution_count": 12,
   "metadata": {},
   "outputs": [
    {
     "data": {
      "text/plain": [
       "['The', 'quick', 'brown', 'fox', 'jumps', 'over', 'the', 'lazy', 'dog', '.']"
      ]
     },
     "execution_count": 12,
     "metadata": {},
     "output_type": "execute_result"
    }
   ],
   "source": [
    "import nltk\n",
    "raw_text = \"The quick brown fox jumps over the lazy dog. Sphinx of black quartz, judge my vow! Waltz job vexed quick frog nymphs. Go, lazy fat vizen; be shrewd, jump quick. Five quacking zephyrs jolt my wax bed.\"\n",
    "tokens = nltk.word_tokenize(raw_text)\n",
    "\n",
    "tokens[:10]"
   ]
  },
  {
   "cell_type": "markdown",
   "metadata": {},
   "source": [
    "# Code Comments\n",
    "raw text same as above\n",
    "<br>then convert raw text to sentance tokens and then assign them to the variable tokens\n",
    "<br>then print the list of those tokens\n"
   ]
  },
  {
   "cell_type": "code",
   "execution_count": 13,
   "metadata": {},
   "outputs": [
    {
     "name": "stdout",
     "output_type": "stream",
     "text": [
      "['The quick brown fox jumps over the lazy dog.', 'Sphinx of black quartz, judge my vow!', 'Waltz job vexed quick frog nymphs.', 'Go, lazy fat vizen; be shrewd, jump quick.', 'Five quacking zephyrs jolt my wax bed.']\n"
     ]
    }
   ],
   "source": [
    "import nltk\n",
    "raw_text = \"The quick brown fox jumps over the lazy dog. Sphinx of black quartz, judge my vow! Waltz job vexed quick frog nymphs. Go, lazy fat vizen; be shrewd, jump quick. Five quacking zephyrs jolt my wax bed.\"\n",
    "tokens = nltk.sent_tokenize(raw_text)\n",
    "\n",
    "print(tokens)"
   ]
  },
  {
   "cell_type": "markdown",
   "metadata": {},
   "source": [
    "# Code Comments\n",
    "raw text same as above\n",
    "<br>create a PorterStemmer object\n",
    "<br>split raw text into word tokens\n",
    "<br>for each word in rawTokens chop it down to its stem(well as close as an algo can get to stem)"
   ]
  },
  {
   "cell_type": "code",
   "execution_count": 14,
   "metadata": {},
   "outputs": [
    {
     "data": {
      "text/plain": [
       "['the',\n",
       " 'quick',\n",
       " 'brown',\n",
       " 'fox',\n",
       " 'jump',\n",
       " 'over',\n",
       " 'the',\n",
       " 'lazi',\n",
       " 'dog',\n",
       " '.',\n",
       " 'sphinx',\n",
       " 'of',\n",
       " 'black',\n",
       " 'quartz',\n",
       " ',',\n",
       " 'judg',\n",
       " 'my',\n",
       " 'vow',\n",
       " '!',\n",
       " 'waltz',\n",
       " 'job',\n",
       " 'vex',\n",
       " 'quick',\n",
       " 'frog',\n",
       " 'nymph',\n",
       " '.',\n",
       " 'go',\n",
       " ',',\n",
       " 'lazi',\n",
       " 'fat',\n",
       " 'vizen',\n",
       " ';',\n",
       " 'be',\n",
       " 'shrewd',\n",
       " ',',\n",
       " 'jump',\n",
       " 'quick',\n",
       " '.',\n",
       " 'five',\n",
       " 'quack',\n",
       " 'zephyr',\n",
       " 'jolt',\n",
       " 'my',\n",
       " 'wax',\n",
       " 'bed',\n",
       " '.']"
      ]
     },
     "execution_count": 14,
     "metadata": {},
     "output_type": "execute_result"
    }
   ],
   "source": [
    "import nltk\n",
    "raw_text = \"The quick brown fox jumps over the lazy dog. Sphinx of black quartz, judge my vow! Waltz job vexed quick frog nymphs. Go, lazy fat vizen; be shrewd, jump quick. Five quacking zephyrs jolt my wax bed.\"\n",
    "stemmer = nltk.PorterStemmer()\n",
    "rawTokens = nltk.word_tokenize(raw_text)\n",
    "[stemmer.stem(t) for t in rawTokens]"
   ]
  },
  {
   "cell_type": "markdown",
   "metadata": {},
   "source": [
    "# Code Comments\n",
    "raw text same as above\n",
    "<br>create WordNetLemmatizer object\n",
    "<br>split raw_text into word tokens\n",
    "<br>for each word token in raw_text stem it less aggressively\n",
    "\n",
    "# Question Answers\n",
    "the-The\n",
    "lazi-lazy\n",
    "judg-judge\n",
    "vex-vexed\n",
    "quack-quacking"
   ]
  },
  {
   "cell_type": "code",
   "execution_count": 15,
   "metadata": {},
   "outputs": [
    {
     "data": {
      "text/plain": [
       "['The',\n",
       " 'quick',\n",
       " 'brown',\n",
       " 'fox',\n",
       " 'jump',\n",
       " 'over',\n",
       " 'the',\n",
       " 'lazy',\n",
       " 'dog',\n",
       " '.',\n",
       " 'Sphinx',\n",
       " 'of',\n",
       " 'black',\n",
       " 'quartz',\n",
       " ',',\n",
       " 'judge',\n",
       " 'my',\n",
       " 'vow',\n",
       " '!',\n",
       " 'Waltz',\n",
       " 'job',\n",
       " 'vexed',\n",
       " 'quick',\n",
       " 'frog',\n",
       " 'nymph',\n",
       " '.',\n",
       " 'Go',\n",
       " ',',\n",
       " 'lazy',\n",
       " 'fat',\n",
       " 'vizen',\n",
       " ';',\n",
       " 'be',\n",
       " 'shrewd',\n",
       " ',',\n",
       " 'jump',\n",
       " 'quick',\n",
       " '.',\n",
       " 'Five',\n",
       " 'quacking',\n",
       " 'zephyr',\n",
       " 'jolt',\n",
       " 'my',\n",
       " 'wax',\n",
       " 'bed',\n",
       " '.']"
      ]
     },
     "execution_count": 15,
     "metadata": {},
     "output_type": "execute_result"
    }
   ],
   "source": [
    "import nltk\n",
    "raw_text = \"The quick brown fox jumps over the lazy dog. Sphinx of black quartz, judge my vow! Waltz job vexed quick frog nymphs. Go, lazy fat vizen; be shrewd, jump quick. Five quacking zephyrs jolt my wax bed.\"\n",
    "lemmatizer = nltk.WordNetLemmatizer()\n",
    "rawTokens = nltk.word_tokenize(raw_text)\n",
    "[lemmatizer.lemmatize(t) for t in rawTokens]"
   ]
  },
  {
   "cell_type": "markdown",
   "metadata": {},
   "source": [
    "&nbsp;&nbsp;&nbsp;&nbsp;&nbsp;&nbsp;The NLTK library is super functional with many different options to parse texts, the ability to have just a prefab word and sentance tokenizer is incredibly powerfull and the added functionality for counting occurences in a list is very usefull. The code quality seems to be pretty on par, as the methods and such do make sense according to their names. However, I dislike the nltk documentation as if I want any more insight into what *exactly* a method does the documentation does not provide it. NTLK is going to be very useful in fixing how I process user input for my text adventure side project."
   ]
  }
 ],
 "metadata": {
  "kernelspec": {
   "display_name": "Python 3.10.7 64-bit (microsoft store)",
   "language": "python",
   "name": "python3"
  },
  "language_info": {
   "codemirror_mode": {
    "name": "ipython",
    "version": 3
   },
   "file_extension": ".py",
   "mimetype": "text/x-python",
   "name": "python",
   "nbconvert_exporter": "python",
   "pygments_lexer": "ipython3",
   "version": "3.10.7"
  },
  "orig_nbformat": 4,
  "vscode": {
   "interpreter": {
    "hash": "90b2864b0195a5508ac774f00def394741627176797bec63e4b6717effc2fb31"
   }
  }
 },
 "nbformat": 4,
 "nbformat_minor": 2
}
